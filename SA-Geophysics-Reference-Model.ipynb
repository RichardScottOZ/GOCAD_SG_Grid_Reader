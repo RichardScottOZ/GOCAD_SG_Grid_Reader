{
 "cells": [
  {
   "cell_type": "code",
   "execution_count": 4,
   "metadata": {},
   "outputs": [],
   "source": [
    "\n",
    "\"\"\"\n",
    "GOCAD data tools.\n",
    "paulbourke.net/dataformats/gocad/gocad.pdf\n",
    "from https://github.com/elygeo/coseis/blob/main/cst/gocad.py\n",
    "https://github.com/esys-escript/esys-escript.github.io/blob/master/doc/examples/usersguide/voxet_reader.py\n",
    "\"\"\"\n",
    "import os\n",
    "import numpy as np\n",
    "import pyvista as pv\n",
    "\n",
    "def header(buff, counter=0, casters=None):\n",
    "    \"\"\"\n",
    "    GOCAD header reader\n",
    "    \"\"\"\n",
    "    if casters is None:\n",
    "        casters = {\n",
    "            int: ('pclip', 'field'),\n",
    "            bool: ('imap', 'ivolmap', 'parts', 'transparency'),\n",
    "            float: ('contrast', 'low_clip', 'high_clip', 'transparency_min'),\n",
    "        }\n",
    "    cast = {}\n",
    "    for c in casters:\n",
    "        for k in casters[c]:\n",
    "            cast[k] = c\n",
    "    header = {}\n",
    "    while counter < len(buff):\n",
    "        line = buff[counter]\n",
    "        counter += 1\n",
    "        if '}' in line:\n",
    "            return header, counter\n",
    "        k, v = line.split(':')\n",
    "        k = k.split('*')[-1]\n",
    "        header[k] = v\n",
    "        if k in cast:\n",
    "            f = v.split()\n",
    "            if len(f) > 1:\n",
    "                try:\n",
    "                    header[k] = tuple(cast[k](x) for x in f)\n",
    "                except ValueError:\n",
    "                    print('Could not cast %s %s to %s' % (k, v, cast[k]))\n",
    "            else:\n",
    "                try:\n",
    "                    header[k] = cast[k](v)\n",
    "                except ValueError:\n",
    "                    print('Could not cast %s %s to %s' % (k, v, cast[k]))\n",
    "    raise Exception('Error in header')\n",
    "    return\n",
    "\n",
    "\n",
    "def voxet(path, load_props=[], alternate='', no_data_value=None, buff=None):\n",
    "    \"\"\"\n",
    "    GOCAD voxet reader\n",
    "    \"\"\"\n",
    "    if buff is None:\n",
    "        buff = open(path).read()\n",
    "    if no_data_value in ('nan', 'NaN', 'NAN'):\n",
    "        no_data_value = float('nan')\n",
    "    buff = buff.strip().split('\\n')\n",
    "    cast = {}\n",
    "    casters = {\n",
    "        int: ('N', 'ESIZE', 'OFFSET', 'SIGNED', 'PAINTED_FLAG_BIT_POS'),\n",
    "        str: (\n",
    "            'NAME', 'FILE', 'TYPE', 'ETYPE', 'FORMAT', 'UNIT',\n",
    "            'ORIGINAL_UNIT'\n",
    "        ),\n",
    "        float: (\n",
    "            'O', 'D', 'U', 'V', 'W', 'MIN', 'MAX', 'NO_DATA_VALUE',\n",
    "            'SAMPLE_STATS'\n",
    "        ),\n",
    "    }\n",
    "    for c in casters:\n",
    "        for k in casters[c]:\n",
    "            cast[k] = c\n",
    "    voxet = {}\n",
    "    counter = 0\n",
    "    while counter < len(buff):\n",
    "        line = buff[counter].strip()\n",
    "        counter += 1\n",
    "        f = line.replace('\"', '').split()\n",
    "        if len(f) == 0 or line.startswith('#'):\n",
    "            continue\n",
    "        elif line.startswith('GOCAD Voxet'):\n",
    "            id_ = f[2]\n",
    "            axis, prop = {}, {}\n",
    "        elif f[0] == 'HEADER':\n",
    "            hdr, counter = header(buff, counter)\n",
    "        elif len(f) > 1:\n",
    "            k = f[0].split('_', 1)\n",
    "            if k[0] == 'AXIS':\n",
    "                axis[k[1]] = tuple(cast[k[1]](x) for x in f[1:])\n",
    "            elif f[0] == 'PROPERTY':\n",
    "                prop[f[1]] = {'PROPERTY': f[2]}\n",
    "            elif k[0] == 'PROP':\n",
    "                if len(f) > 3:\n",
    "                    prop[f[1]][k[1]] = tuple(cast[k[1]](x) for x in f[2:])\n",
    "                else:\n",
    "                    prop[f[1]][k[1]] = cast[k[1]](f[2])\n",
    "        elif f[0] == 'END':\n",
    "            for p in load_props:\n",
    "                print(prop)\n",
    "                p = prop[p]\n",
    "                n = axis['N']\n",
    "                print(n)\n",
    "                f = os.path.join(os.path.dirname(path), p['FILE'] + alternate)\n",
    "                print(f)\n",
    "                if os.path.exists(f):\n",
    "                    print('exists')\n",
    "                    dtype = '>f%s' % p['ESIZE']\n",
    "                    data = numpy.fromfile(f, dtype)\n",
    "                    if no_data_value is not None:\n",
    "                        data[data == p['NO_DATA_VALUE']] = no_data_value\n",
    "                    p['DATA'] = data.reshape(n[::-1]).T\n",
    "            voxet[id_] = {'HEADER': hdr, 'AXIS': axis, 'PROP': prop}\n",
    "    return voxet\n",
    "\n",
    "\n",
    "def tsurf(buff):\n",
    "    \"\"\"\n",
    "    GOCAD triangulated surface reader\n",
    "    \"\"\"\n",
    "    buff = buff.strip().split('\\n')\n",
    "    tsurf = []\n",
    "    counter = 0\n",
    "    # casters = {\n",
    "    #     int: ('ATOM', 'PATOM', 'TRGL', 'BORDER', 'BSTONE'),\n",
    "    #     float: ('VRTX', 'PVRTX'),\n",
    "    # }\n",
    "    while counter < len(buff):\n",
    "        line = buff[counter].strip()\n",
    "        counter += 1\n",
    "        f = line.split()\n",
    "        if len(f) == 0 or line.startswith('#'):\n",
    "            continue\n",
    "        elif line.startswith('GOCAD TSurf'):\n",
    "            meta0, meta, tri, x, t, b, s, a = None, {}, [], [], [], [], [], []\n",
    "        elif f[0] in ('VRTX', 'PVRTX'):\n",
    "            x.append([float(f[2]), float(f[3]), float(f[4])])\n",
    "        elif f[0] in ('ATOM', 'PATOM'):\n",
    "            i = int(f[2]) - 1\n",
    "            a.append([len(x), i])\n",
    "            # x.append(x[i])\n",
    "            x.append([float('nan'), float('nan'), float('nan')])\n",
    "        elif f[0] == 'TRGL':\n",
    "            t.append([int(f[1]) - 1, int(f[2]) - 1, int(f[3]) - 1])\n",
    "        elif f[0] == 'BORDER':\n",
    "            b.append([int(f[2]) - 1, int(f[3]) - 1])\n",
    "        elif f[0] == 'BSTONE':\n",
    "            s.append(int(f[1]) - 1)\n",
    "        elif f[0] == 'TFACE':\n",
    "            if t != []:\n",
    "                tri.append(numpy.array(t, 'i'))\n",
    "            t = []\n",
    "        elif f[0] == 'END':\n",
    "            tri.append(numpy.array(t, 'i'))\n",
    "            x = numpy.array(x, 'f')\n",
    "            b = numpy.array(b, 'i')\n",
    "            s = numpy.array(s, 'i')\n",
    "            for i, j in a:\n",
    "                tri[tri == i] = j\n",
    "                b[b == i] = j\n",
    "                s[s == i] = j\n",
    "            data = {'vtx': x, 'tri': tri, 'border': b, 'bstone': s}\n",
    "            meta.update(meta0)\n",
    "            tsurf.append([meta, data])\n",
    "        elif f[0] == 'PROPERTY_CLASS_HEADER':\n",
    "            meta[f[1]], counter = header(buff, counter)\n",
    "        elif f[0] == 'HEADER':\n",
    "            meta0, counter = header(buff, counter)\n",
    "    return tsurf"
   ]
  },
  {
   "cell_type": "code",
   "execution_count": 5,
   "metadata": {},
   "outputs": [],
   "source": [
    "#r'J:\\McArthur\\Id1507107909\\DIP012\\Digital_Data\\REGIONAL_MODEL\\GOCAD_OBJECTS\\GMcAB_OBJECTS\\Voxets (.vo)\\SEISMIC_CUBE_DIP_DATA\\DIP_DATA_VOXET.vo'"
   ]
  },
  {
   "cell_type": "code",
   "execution_count": 6,
   "metadata": {},
   "outputs": [],
   "source": [
    "hfile = r'H:\\GDP00037\\Data\\SA_Geophysic_Reference_Model\\SGrid\\SA_Geophysics_Reference_Model_SGrid.sg'\n",
    "propfile1 = r'H:\\GDP00037\\Data\\SA_Geophysic_Reference_Model\\SGrid\\\\SA_Geophysics_Reference_Model_SGrid__flags@@'\n",
    "propfile2 = r'H:\\GDP00037\\Data\\SA_Geophysic_Reference_Model\\SGrid\\\\SA_Geophysics_Reference_Model_SGrid__points@@'\n"
   ]
  },
  {
   "cell_type": "code",
   "execution_count": 8,
   "metadata": {},
   "outputs": [
    {
     "name": "stderr",
     "output_type": "stream",
     "text": [
      "ERROR:root:Cannot read cell data array \"Gravity_Inversion_Constrained\" from PointData in piece 0.  The data array in the element may be too short.\n"
     ]
    }
   ],
   "source": [
    "#junk = voxet(hfile)\n",
    "junk=pv.read(r'J:\\ogs-6.4.1-79-g69a2996020-Windows-10.0.19043-python-3.8.2-utils\\bin\\SA_Geophysics_Reference_Model.vtu')"
   ]
  },
  {
   "cell_type": "code",
   "execution_count": 48,
   "metadata": {},
   "outputs": [
    {
     "data": {
      "text/plain": [
       "{'1': {'HEADER': {'name': ' DIP_DATA_VOXET',\n",
       "   'smoothed': ' on',\n",
       "   'use_private_colormaps': ' off',\n",
       "   'probe_type': ' Sections',\n",
       "   'size': ' 0 0 0 49 49 49',\n",
       "   'fence0': ' 3 1 2 0 0 0 49 49 49',\n",
       "   'nb_fences': ' 1',\n",
       "   'sections': ' 3 1 0 0 2 0 0 3 0 0',\n",
       "   'VoxetIntersectionAssociation': ' off',\n",
       "   'variable': ' Dip',\n",
       "   'painted': ' off',\n",
       "   'ascii': ' off'},\n",
       "  'AXIS': {'NAME': ('axis-1', 'axis-2', 'axis-3'),\n",
       "   'UNIT': ('unitless', 'unitless', 'unitless'),\n",
       "   'O': (270217.0, 7923111.8125, -15583.5),\n",
       "   'U': (382516.0, 0.0, 0.0),\n",
       "   'V': (0.0, 620896.188, 0.0),\n",
       "   'W': (0.0, 0.0, 31500.0),\n",
       "   'MIN': (0.0, 0.0, 0.0),\n",
       "   'MAX': (1.0, 1.0, 1.0),\n",
       "   'N': (50, 50, 50),\n",
       "   'TYPE': ('even', 'even', 'even')},\n",
       "  'PROP': {'1': {'PROPERTY': 'Dip',\n",
       "    'ORIGINAL_UNIT': 'unitless',\n",
       "    'UNIT': 'unitless',\n",
       "    'NO_DATA_VALUE': -99999.0,\n",
       "    'SAMPLE_STATS': (480.0, 7.91667, 144.068, 0.0, 70.0),\n",
       "    'ESIZE': 4,\n",
       "    'ETYPE': 'IEEE',\n",
       "    'PAINTED_FLAG_BIT_POS': 6,\n",
       "    'FORMAT': 'RAW',\n",
       "    'OFFSET': 0,\n",
       "    'FILE': 'DIP_DATA_VOXET_Dip@@'}}}}"
      ]
     },
     "execution_count": 48,
     "metadata": {},
     "output_type": "execute_result"
    }
   ],
   "source": [
    "junk"
   ]
  },
  {
   "cell_type": "code",
   "execution_count": 61,
   "metadata": {},
   "outputs": [
    {
     "name": "stdout",
     "output_type": "stream",
     "text": [
      "{'1': {'PROPERTY': 'Dip', 'ORIGINAL_UNIT': 'unitless', 'UNIT': 'unitless', 'NO_DATA_VALUE': -99999.0, 'SAMPLE_STATS': (480.0, 7.91667, 144.068, 0.0, 70.0), 'ESIZE': 4, 'ETYPE': 'IEEE', 'PAINTED_FLAG_BIT_POS': 6, 'FORMAT': 'RAW', 'OFFSET': 0, 'FILE': 'DIP_DATA_VOXET_Dip@@'}}\n",
      "(50, 50, 50)\n",
      "J:\\McArthur\\Id1507107909\\DIP012\\Digital_Data\\REGIONAL_MODEL\\GOCAD_OBJECTS\\GMcAB_OBJECTS\\Voxets (.vo)\\SEISMIC_CUBE_DIP_DATA\\DIP_DATA_VOXET_Dip@@\n",
      "exists\n"
     ]
    }
   ],
   "source": [
    "junk = voxet(hfile, load_props=['1'], no_data_value=-99999)"
   ]
  },
  {
   "cell_type": "code",
   "execution_count": 62,
   "metadata": {},
   "outputs": [
    {
     "data": {
      "text/plain": [
       "{'1': {'HEADER': {'name': ' DIP_DATA_VOXET',\n",
       "   'smoothed': ' on',\n",
       "   'use_private_colormaps': ' off',\n",
       "   'probe_type': ' Sections',\n",
       "   'size': ' 0 0 0 49 49 49',\n",
       "   'fence0': ' 3 1 2 0 0 0 49 49 49',\n",
       "   'nb_fences': ' 1',\n",
       "   'sections': ' 3 1 0 0 2 0 0 3 0 0',\n",
       "   'VoxetIntersectionAssociation': ' off',\n",
       "   'variable': ' Dip',\n",
       "   'painted': ' off',\n",
       "   'ascii': ' off'},\n",
       "  'AXIS': {'NAME': ('axis-1', 'axis-2', 'axis-3'),\n",
       "   'UNIT': ('unitless', 'unitless', 'unitless'),\n",
       "   'O': (270217.0, 7923111.8125, -15583.5),\n",
       "   'U': (382516.0, 0.0, 0.0),\n",
       "   'V': (0.0, 620896.188, 0.0),\n",
       "   'W': (0.0, 0.0, 31500.0),\n",
       "   'MIN': (0.0, 0.0, 0.0),\n",
       "   'MAX': (1.0, 1.0, 1.0),\n",
       "   'N': (50, 50, 50),\n",
       "   'TYPE': ('even', 'even', 'even')},\n",
       "  'PROP': {'1': {'PROPERTY': 'Dip',\n",
       "    'ORIGINAL_UNIT': 'unitless',\n",
       "    'UNIT': 'unitless',\n",
       "    'NO_DATA_VALUE': -99999.0,\n",
       "    'SAMPLE_STATS': (480.0, 7.91667, 144.068, 0.0, 70.0),\n",
       "    'ESIZE': 4,\n",
       "    'ETYPE': 'IEEE',\n",
       "    'PAINTED_FLAG_BIT_POS': 6,\n",
       "    'FORMAT': 'RAW',\n",
       "    'OFFSET': 0,\n",
       "    'FILE': 'DIP_DATA_VOXET_Dip@@',\n",
       "    'DATA': array([[[-99999., -99999., -99999., ..., -99999., -99999., -99999.],\n",
       "            [-99999., -99999., -99999., ..., -99999., -99999., -99999.],\n",
       "            [-99999., -99999., -99999., ..., -99999., -99999., -99999.],\n",
       "            ...,\n",
       "            [-99999., -99999., -99999., ..., -99999., -99999., -99999.],\n",
       "            [-99999., -99999., -99999., ..., -99999., -99999., -99999.],\n",
       "            [-99999., -99999., -99999., ..., -99999., -99999., -99999.]],\n",
       "    \n",
       "           [[-99999., -99999., -99999., ..., -99999., -99999., -99999.],\n",
       "            [-99999., -99999., -99999., ..., -99999., -99999., -99999.],\n",
       "            [-99999., -99999., -99999., ..., -99999., -99999., -99999.],\n",
       "            ...,\n",
       "            [-99999., -99999., -99999., ..., -99999., -99999., -99999.],\n",
       "            [-99999., -99999., -99999., ..., -99999., -99999., -99999.],\n",
       "            [-99999., -99999., -99999., ..., -99999., -99999., -99999.]],\n",
       "    \n",
       "           [[-99999., -99999., -99999., ..., -99999., -99999., -99999.],\n",
       "            [-99999., -99999., -99999., ..., -99999., -99999., -99999.],\n",
       "            [-99999., -99999., -99999., ..., -99999., -99999., -99999.],\n",
       "            ...,\n",
       "            [-99999., -99999., -99999., ..., -99999., -99999., -99999.],\n",
       "            [-99999., -99999., -99999., ..., -99999., -99999., -99999.],\n",
       "            [-99999., -99999., -99999., ..., -99999., -99999., -99999.]],\n",
       "    \n",
       "           ...,\n",
       "    \n",
       "           [[-99999., -99999., -99999., ..., -99999., -99999., -99999.],\n",
       "            [-99999., -99999., -99999., ..., -99999., -99999., -99999.],\n",
       "            [-99999., -99999., -99999., ..., -99999., -99999., -99999.],\n",
       "            ...,\n",
       "            [-99999., -99999., -99999., ..., -99999., -99999., -99999.],\n",
       "            [-99999., -99999., -99999., ..., -99999., -99999., -99999.],\n",
       "            [-99999., -99999., -99999., ..., -99999., -99999., -99999.]],\n",
       "    \n",
       "           [[-99999., -99999., -99999., ..., -99999., -99999., -99999.],\n",
       "            [-99999., -99999., -99999., ..., -99999., -99999., -99999.],\n",
       "            [-99999., -99999., -99999., ..., -99999., -99999., -99999.],\n",
       "            ...,\n",
       "            [-99999., -99999., -99999., ..., -99999., -99999., -99999.],\n",
       "            [-99999., -99999., -99999., ..., -99999., -99999., -99999.],\n",
       "            [-99999., -99999., -99999., ..., -99999., -99999., -99999.]],\n",
       "    \n",
       "           [[-99999., -99999., -99999., ..., -99999., -99999., -99999.],\n",
       "            [-99999., -99999., -99999., ..., -99999., -99999., -99999.],\n",
       "            [-99999., -99999., -99999., ..., -99999., -99999., -99999.],\n",
       "            ...,\n",
       "            [-99999., -99999., -99999., ..., -99999., -99999., -99999.],\n",
       "            [-99999., -99999., -99999., ..., -99999., -99999., -99999.],\n",
       "            [-99999., -99999., -99999., ..., -99999., -99999., -99999.]]],\n",
       "          dtype=float32)}}}}"
      ]
     },
     "execution_count": 62,
     "metadata": {},
     "output_type": "execute_result"
    }
   ],
   "source": [
    "junk"
   ]
  },
  {
   "cell_type": "code",
   "execution_count": 19,
   "metadata": {},
   "outputs": [
    {
     "name": "stdout",
     "output_type": "stream",
     "text": [
      "{'HEADER': {'name': ' DIP_DATA_VOXET', 'smoothed': ' on', 'use_private_colormaps': ' off', 'probe_type': ' Sections', 'size': ' 0 0 0 49 49 49', 'fence0': ' 3 1 2 0 0 0 49 49 49', 'nb_fences': ' 1', 'sections': ' 3 1 0 0 2 0 0 3 0 0', 'VoxetIntersectionAssociation': ' off', 'variable': ' Dip', 'painted': ' off', 'ascii': ' off'}, 'AXIS': {'NAME': ('axis-1', 'axis-2', 'axis-3'), 'UNIT': ('unitless', 'unitless', 'unitless'), 'O': (270217.0, 7923111.8125, -15583.5), 'U': (382516.0, 0.0, 0.0), 'V': (0.0, 620896.188, 0.0), 'W': (0.0, 0.0, 31500.0), 'MIN': (0.0, 0.0, 0.0), 'MAX': (1.0, 1.0, 1.0), 'N': (50, 50, 50), 'TYPE': ('even', 'even', 'even')}, 'PROP': {'1': {'PROPERTY': 'Dip', 'ORIGINAL_UNIT': 'unitless', 'UNIT': 'unitless', 'NO_DATA_VALUE': -99999.0, 'SAMPLE_STATS': (480.0, 7.91667, 144.068, 0.0, 70.0), 'ESIZE': 4, 'ETYPE': 'IEEE', 'PAINTED_FLAG_BIT_POS': 6, 'FORMAT': 'RAW', 'OFFSET': 0, 'FILE': 'DIP_DATA_VOXET_Dip@@'}}}\n"
     ]
    }
   ],
   "source": [
    "for key in junk.keys():\n",
    "    print(junk[key])"
   ]
  },
  {
   "cell_type": "code",
   "execution_count": 63,
   "metadata": {},
   "outputs": [
    {
     "data": {
      "text/plain": [
       "(50, 50, 50)"
      ]
     },
     "execution_count": 63,
     "metadata": {},
     "output_type": "execute_result"
    }
   ],
   "source": [
    "junk['1']['PROP']['1']['DATA'].shape"
   ]
  },
  {
   "cell_type": "code",
   "execution_count": 66,
   "metadata": {},
   "outputs": [
    {
     "data": {
      "text/plain": [
       "array([-9.9999e+04,  0.0000e+00,  1.0000e+00,  2.0000e+00,  3.0000e+00,\n",
       "        4.0000e+00,  5.0000e+00,  6.0000e+00,  8.0000e+00,  1.0000e+01,\n",
       "        1.4000e+01,  1.5000e+01,  2.0000e+01,  2.6000e+01,  3.0000e+01,\n",
       "        3.2000e+01,  3.5000e+01,  5.0000e+01,  7.0000e+01], dtype=float32)"
      ]
     },
     "execution_count": 66,
     "metadata": {},
     "output_type": "execute_result"
    }
   ],
   "source": [
    "import numpy as np\n",
    "np.unique(junk['1']['PROP']['1']['DATA'])"
   ]
  },
  {
   "cell_type": "code",
   "execution_count": 67,
   "metadata": {},
   "outputs": [
    {
     "name": "stderr",
     "output_type": "stream",
     "text": [
      "<ipython-input-67-a7e86292ca8b>:19: DeprecationWarning: `np.int` is a deprecated alias for the builtin `int`. To silence this warning, use `int` by itself. Doing this will not modify any behavior and is safe. When replacing `np.int`, you may wish to use e.g. `np.int64` or `np.int32` to specify the precision. If you wish to review your current use, check the release note link for additional information.\n",
      "Deprecated in NumPy 1.20; for more details and guidance: https://numpy.org/devdocs/release/1.20.0-notes.html#deprecations\n",
      "  cells = np.full((len(points)-1, 3), 2, dtype=np.int)\n",
      "<ipython-input-67-a7e86292ca8b>:20: DeprecationWarning: `np.int` is a deprecated alias for the builtin `int`. To silence this warning, use `int` by itself. Doing this will not modify any behavior and is safe. When replacing `np.int`, you may wish to use e.g. `np.int64` or `np.int32` to specify the precision. If you wish to review your current use, check the release note link for additional information.\n",
      "Deprecated in NumPy 1.20; for more details and guidance: https://numpy.org/devdocs/release/1.20.0-notes.html#deprecations\n",
      "  cells[:, 1] = np.arange(0, len(points)-1, dtype=np.int)\n",
      "<ipython-input-67-a7e86292ca8b>:21: DeprecationWarning: `np.int` is a deprecated alias for the builtin `int`. To silence this warning, use `int` by itself. Doing this will not modify any behavior and is safe. When replacing `np.int`, you may wish to use e.g. `np.int64` or `np.int32` to specify the precision. If you wish to review your current use, check the release note link for additional information.\n",
      "Deprecated in NumPy 1.20; for more details and guidance: https://numpy.org/devdocs/release/1.20.0-notes.html#deprecations\n",
      "  cells[:, 2] = np.arange(1, len(points), dtype=np.int)\n"
     ]
    },
    {
     "data": {
      "image/png": "[encoded data removed]",
      "text/plain": [
       "<PIL.Image.Image image mode=RGB size=1024x768 at 0x1EE146640A0>"
      ]
     },
     "metadata": {},
     "output_type": "display_data"
    },
    {
     "data": {
      "text/plain": [
       "[(13.719394954848525, 14.57901445433668, 13.719394954848525),\n",
       " (4.440892098500626e-16, 0.8596194994881534, 0.0),\n",
       " (0.0, 0.0, 1.0)]"
      ]
     },
     "execution_count": 67,
     "metadata": {},
     "output_type": "execute_result"
    }
   ],
   "source": [
    "import pyvista as pv\n",
    "import numpy as np\n",
    "pv.set_plot_theme('doc')\n",
    "\n",
    "def make_points():\n",
    "    \"\"\"Helper to make XYZ points\"\"\"\n",
    "    theta = np.linspace(-4 * np.pi, 4 * np.pi, 100)\n",
    "    z = np.linspace(-2, 2, 100)\n",
    "    r = z**2 + 1\n",
    "    x = r * np.sin(theta)\n",
    "    y = r * np.cos(theta)\n",
    "    return np.column_stack((x, y, z))\n",
    "\n",
    "\n",
    "def lines_from_points(points):\n",
    "    \"\"\"Given an array of points, make a line set\"\"\"\n",
    "    poly = pv.PolyData()\n",
    "    poly.points = points\n",
    "    cells = np.full((len(points)-1, 3), 2, dtype=np.int)\n",
    "    cells[:, 1] = np.arange(0, len(points)-1, dtype=np.int)\n",
    "    cells[:, 2] = np.arange(1, len(points), dtype=np.int)\n",
    "    poly.lines = cells\n",
    "    return poly\n",
    "\n",
    "points = make_points()\n",
    "\n",
    "line = lines_from_points(points)\n",
    "\n",
    "p = pv.Plotter()\n",
    "p.add_mesh(points, color='red')\n",
    "p.add_mesh(line, color='blue',)\n",
    "p.show()"
   ]
  },
  {
   "cell_type": "code",
   "execution_count": 72,
   "metadata": {},
   "outputs": [
    {
     "data": {
      "image/png": "[encoded data removed]",
      "text/plain": [
       "<PIL.Image.Image image mode=RGB size=1024x768 at 0x1EE11EBB7F0>"
      ]
     },
     "metadata": {},
     "output_type": "display_data"
    },
    {
     "data": {
      "image/png": "[encoded data removed]",
      "text/plain": [
       "<PIL.Image.Image image mode=RGB size=1024x768 at 0x1EE11EAA730>"
      ]
     },
     "metadata": {},
     "output_type": "display_data"
    },
    {
     "data": {
      "text/plain": [
       "[(630460.6466856378, 8673647.271685638, 78.20070175106548),\n",
       " (629812.8125, 8672999.4375, -569.6334838867188),\n",
       " (0.0, 0.0, 1.0)]"
      ]
     },
     "execution_count": 72,
     "metadata": {},
     "output_type": "execute_result"
    }
   ],
   "source": [
    "#https://docs.pyvista.org/api/utilities/_autosummary/pyvista.lines_from_points.html\n",
    "import numpy as np\n",
    "import pyvista\n",
    "points = np.array([[0, 0, 0], [1, 0, 0], [1, 1, 0]])\n",
    "points = np.array([[629607.40625, 8673138.9375, -419.00299072265625 ], [629607.40625, 8673138.9375, -720.26397705078125 ], [630018.21875, 8672859.9375, -709.30902099609375 ]])\n",
    "poly = pyvista.lines_from_points(points, close=True)\n",
    "poly.plot(line_width=5)\n",
    "\n",
    "poly = pyvista.lines_from_points(points, close=False)\n",
    "poly.plot(line_width=4)"
   ]
  },
  {
   "cell_type": "code",
   "execution_count": 76,
   "metadata": {},
   "outputs": [
    {
     "data": {
      "image/png": "[encoded data removed]",
      "text/plain": [
       "<PIL.Image.Image image mode=RGB size=1024x768 at 0x1EE14633C10>"
      ]
     },
     "metadata": {},
     "output_type": "display_data"
    },
    {
     "data": {
      "text/plain": [
       "[(6.731479005868078, 6.731479005868078, 6.231479005868078),\n",
       " (1.5, 1.5, 1.0),\n",
       " (0.0, 0.0, 1.0)]"
      ]
     },
     "execution_count": 76,
     "metadata": {},
     "output_type": "execute_result"
    }
   ],
   "source": [
    "points = np.array([[0, 0, 0], [1, 0, 0], [1, 1, 0], [2,2, 2], [3, 2, 2], [3, 3, 2]]  )\n",
    "poly = pyvista.lines_from_points(points)\n",
    "poly.plot(line_width=5)"
   ]
  },
  {
   "cell_type": "code",
   "execution_count": null,
   "metadata": {},
   "outputs": [],
   "source": [
    "points = np.array([[0, 0, 0],\n",
    "                   [1, 0, 0],\n",
    "                   [1, 1, 0],\n",
    "                   [0, 1, 0]])\n",
    "\n",
    "lines = np.array(([0, 1, 2, 3]))\n",
    "\n",
    "pdata = pv.PolyData(points)\n",
    "pdata.lines = lines\n",
    "\n",
    "pl = pv.Plotter()\n",
    "pl.add_mesh(pdata)\n",
    "pl.camera_position = 'xy'\n",
    "pl.add_point_labels(points, range(4), font_size=20)\n",
    "pl.show()"
   ]
  },
  {
   "cell_type": "code",
   "execution_count": 78,
   "metadata": {},
   "outputs": [
    {
     "data": {
      "text/plain": [
       "array([2, 0, 1, 2, 1, 2], dtype=int64)"
      ]
     },
     "execution_count": 78,
     "metadata": {},
     "output_type": "execute_result"
    }
   ],
   "source": [
    "pdata.lines"
   ]
  },
  {
   "cell_type": "code",
   "execution_count": null,
   "metadata": {},
   "outputs": [],
   "source": [
    "https://docs.pyvista.org/examples/00-load/create-surface-draped.html\n",
    "https://www.opengeosys.org/docs/tools/fileio/gocadtsurfacereader/    \n",
    "https://github.com/AuScope/geomodel-2-3dweb/blob/master/scripts/converters/gocad2webasset.py    "
   ]
  }
 ],
 "metadata": {
  "kernelspec": {
   "display_name": "Python [conda env:gempy2021]",
   "language": "python",
   "name": "conda-env-gempy2021-py"
  },
  "language_info": {
   "codemirror_mode": {
    "name": "ipython",
    "version": 3
   },
   "file_extension": ".py",
   "mimetype": "text/x-python",
   "name": "python",
   "nbconvert_exporter": "python",
   "pygments_lexer": "ipython3",
   "version": "3.8.8"
  }
 },
 "nbformat": 4,
 "nbformat_minor": 4
}
